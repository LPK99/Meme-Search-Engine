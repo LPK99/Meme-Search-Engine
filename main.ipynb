{
 "cells": [
  {
   "cell_type": "code",
   "execution_count": 13,
   "metadata": {},
   "outputs": [],
   "source": [
    "import os\n",
    "from PIL import ImageFile\n",
    "import clip\n",
    "import torch\n",
    "from PIL import Image\n",
    "from sklearn.metrics.pairwise import cosine_similarity\n",
    "\n",
    "HOME_DIR = \"memes/memes\"\n",
    "\n",
    "device = \"cuda\" if torch.cuda.is_available() else \"cpu\"\n",
    "model, preprocess = clip.load(\"ViT-B/32\", device=device)\n",
    "\n",
    "images = []"
   ]
  },
  {
   "cell_type": "code",
   "execution_count": 17,
   "metadata": {},
   "outputs": [],
   "source": [
    "import faiss\n",
    "import json\n",
    "import numpy as np\n",
    "ImageFile.LOAD_TRUNCATED_IMAGES = True\n",
    "def retrieve_embeddings():\n",
    "  if os.path.exists(\"index.bin_\"):\n",
    "      index = faiss.read_index(\"index.bin\")\n",
    "      with open(\"references.json\", \"r\") as f:\n",
    "          data = json.load(f)\n",
    "  else:\n",
    "      index = faiss.IndexFlatL2(512)\n",
    "\n",
    "      images = []\n",
    "\n",
    "      for item in os.listdir(HOME_DIR):\n",
    "          if item.lower().endswith((\".jpg\", \".jpeg\", \".png\")):\n",
    "              image = (\n",
    "                  preprocess(Image.open(os.path.join(HOME_DIR, item)))\n",
    "                  .unsqueeze(0)\n",
    "                  .to(device)\n",
    "              )\n",
    "              images.append((item, image))\n",
    "          else:\n",
    "              continue\n",
    "\n",
    "      data = []\n",
    "\n",
    "      for i in images:\n",
    "          with torch.no_grad():\n",
    "              image_features = model.encode_image(i[1])\n",
    "              image_features /= image_features.norm(dim=-1, keepdim=True)\n",
    "\n",
    "              data.append(\n",
    "                  {\n",
    "                      \"image\": i[0],\n",
    "                      \"features\": np.array(image_features.cpu().numpy()).tolist(),\n",
    "                  }\n",
    "              )\n",
    "\n",
    "              index.add(image_features.cpu().numpy())\n",
    "\n",
    "      faiss.write_index(index, \"index.bin\")\n",
    "\n",
    "      with open(\"references.json\", \"w\") as f:\n",
    "          json.dump(data, f)\n",
    "\n",
    "  return index, data\n"
   ]
  },
  {
   "cell_type": "code",
   "execution_count": 18,
   "metadata": {},
   "outputs": [
    {
     "name": "stdout",
     "output_type": "stream",
     "text": [
      "tensor([[49406,  2368, 49407,     0,     0,     0,     0,     0,     0,     0,\n",
      "             0,     0,     0,     0,     0,     0,     0,     0,     0,     0,\n",
      "             0,     0,     0,     0,     0,     0,     0,     0,     0,     0,\n",
      "             0,     0,     0,     0,     0,     0,     0,     0,     0,     0,\n",
      "             0,     0,     0,     0,     0,     0,     0,     0,     0,     0,\n",
      "             0,     0,     0,     0,     0,     0,     0,     0,     0,     0,\n",
      "             0,     0,     0,     0,     0,     0,     0,     0,     0,     0,\n",
      "             0,     0,     0,     0,     0,     0,     0]], dtype=torch.int32)\n"
     ]
    }
   ],
   "source": [
    "query = input(\"Enter a search query: \")\n",
    "\n",
    "tokenized_query = clip.tokenize([query]).to(device)\n",
    "print(tokenized_query)"
   ]
  },
  {
   "cell_type": "code",
   "execution_count": 19,
   "metadata": {},
   "outputs": [
    {
     "name": "stdout",
     "output_type": "stream",
     "text": [
      "6pqm2n.png\n",
      "7tmien.png\n",
      "69dg7c.jpg\n"
     ]
    }
   ],
   "source": [
    "with torch.no_grad():\n",
    "    text_features = model.encode_text(tokenized_query)\n",
    "    text_features /= text_features.norm(dim=-1, keepdim=True)\n",
    "\n",
    "    index, data = retrieve_embeddings()\n",
    "\n",
    "    D, I = index.search(text_features.cpu().numpy(), k=3)\n",
    "    \n",
    "    for i in I[0]:\n",
    "        print(data[i][\"image\"])\n",
    "        # open image\n",
    "        image = Image.open(os.path.join(HOME_DIR, data[i][\"image\"]))\n",
    "        image.show()\n",
    "    "
   ]
  }
 ],
 "metadata": {
  "kernelspec": {
   "display_name": "ds",
   "language": "python",
   "name": "ds"
  },
  "language_info": {
   "codemirror_mode": {
    "name": "ipython",
    "version": 3
   },
   "file_extension": ".py",
   "mimetype": "text/x-python",
   "name": "python",
   "nbconvert_exporter": "python",
   "pygments_lexer": "ipython3",
   "version": "3.9.18"
  },
  "orig_nbformat": 4
 },
 "nbformat": 4,
 "nbformat_minor": 2
}
